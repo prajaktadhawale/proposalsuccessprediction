{
 "cells": [
  {
   "cell_type": "code",
   "execution_count": 2,
   "id": "30c5fe7a-f3e0-4728-8790-11cef3298d85",
   "metadata": {},
   "outputs": [],
   "source": [
    "import pandas as pd\n",
    "import numpy as np\n",
    "from sklearn.model_selection import train_test_split\n",
    "from sklearn.preprocessing import LabelEncoder, OneHotEncoder, StandardScaler\n",
    "from sklearn.ensemble import RandomForestClassifier\n",
    "from sklearn.metrics import accuracy_score, roc_auc_score\n"
   ]
  },
  {
   "cell_type": "code",
   "execution_count": 5,
   "id": "ca53e56d-9955-4c94-afbe-53f7291256af",
   "metadata": {},
   "outputs": [
    {
     "name": "stdout",
     "output_type": "stream",
     "text": [
      "   Grant.Application.ID  Grant.Status Sponsor.Code Grant.Category.Code  \\\n",
      "0                     1             1          NaN                 NaN   \n",
      "1                     2             1           2B                 10A   \n",
      "2                     3             1          29A                 10B   \n",
      "3                     4             1          40D                 10B   \n",
      "4                     5             0          59C                 10A   \n",
      "\n",
      "  Contract.Value.Band...see.note.A Start.date  RFCD.Code.1  RFCD.Percentage.1  \\\n",
      "0                               A     8/11/05     280199.0              100.0   \n",
      "1                               B    11/11/05     280103.0               30.0   \n",
      "2                               A    14/11/05     321004.0               60.0   \n",
      "3                               C    15/11/05     270602.0               50.0   \n",
      "4                               A    16/11/05     260500.0               34.0   \n",
      "\n",
      "   RFCD.Code.2  RFCD.Percentage.2  ...  Faculty.No..15  With.PHD.15  \\\n",
      "0          0.0                0.0  ...             NaN          NaN   \n",
      "1     280106.0               30.0  ...             NaN          NaN   \n",
      "2     321216.0               40.0  ...             NaN          NaN   \n",
      "3     320602.0               50.0  ...             NaN          NaN   \n",
      "4     280000.0               33.0  ...             NaN          NaN   \n",
      "\n",
      "   No..of.Years.in.Uni.at.Time.of.Grant.15  Number.of.Successful.Grant.15  \\\n",
      "0                                      NaN                            NaN   \n",
      "1                                      NaN                            NaN   \n",
      "2                                      NaN                            NaN   \n",
      "3                                      NaN                            NaN   \n",
      "4                                      NaN                            NaN   \n",
      "\n",
      "   Number.of.Unsuccessful.Grant.15  A..15  A.15  B.15  C.15  Unnamed: 251  \n",
      "0                              NaN    NaN   NaN   NaN   NaN           NaN  \n",
      "1                              NaN    NaN   NaN   NaN   NaN           NaN  \n",
      "2                              NaN    NaN   NaN   NaN   NaN           NaN  \n",
      "3                              NaN    NaN   NaN   NaN   NaN           NaN  \n",
      "4                              NaN    NaN   NaN   NaN   NaN           NaN  \n",
      "\n",
      "[5 rows x 252 columns]\n",
      "   Grant.Application.ID  Grant.Status Sponsor.Code Grant.Category.Code  \\\n",
      "0                     1           NaN          47C                 10B   \n",
      "1                     2           NaN          32D                 30B   \n",
      "2                     3           NaN          99C                 30B   \n",
      "3                     4           NaN           2B                 10A   \n",
      "4                     5           NaN          24D                 30B   \n",
      "\n",
      "  Contract.Value.Band...see.note.A Start.date  RFCD.Code.1  RFCD.Percentage.1  \\\n",
      "0                               A     1/01/09          NaN                NaN   \n",
      "1                               D     1/01/09     270199.0              100.0   \n",
      "2                               I     1/01/09          NaN                NaN   \n",
      "3                               E     1/01/09     280204.0               60.0   \n",
      "4                               B     1/01/09     320502.0               50.0   \n",
      "\n",
      "   RFCD.Code.2  RFCD.Percentage.2  ...  Faculty.No..15  With.PHD.15  \\\n",
      "0          NaN                NaN  ...             NaN          NaN   \n",
      "1          0.0                0.0  ...             NaN          NaN   \n",
      "2          NaN                NaN  ...             NaN          NaN   \n",
      "3     280506.0               20.0  ...             NaN          NaN   \n",
      "4     320703.0               50.0  ...             NaN          NaN   \n",
      "\n",
      "   No..of.Years.in.Uni.at.Time.of.Grant.15  Number.of.Successful.Grant.15  \\\n",
      "0                                      NaN                            NaN   \n",
      "1                                      NaN                            NaN   \n",
      "2                                      NaN                            NaN   \n",
      "3                                      NaN                            NaN   \n",
      "4                                      NaN                            NaN   \n",
      "\n",
      "   Number.of.Unsuccessful.Grant.15  A..15  A.15  B.15  C.15  Unnamed: 251  \n",
      "0                              NaN    NaN   NaN   NaN   NaN           NaN  \n",
      "1                              NaN    NaN   NaN   NaN   NaN           NaN  \n",
      "2                              NaN    NaN   NaN   NaN   NaN           NaN  \n",
      "3                              NaN    NaN   NaN   NaN   NaN           NaN  \n",
      "4                              NaN    NaN   NaN   NaN   NaN           NaN  \n",
      "\n",
      "[5 rows x 252 columns]\n"
     ]
    }
   ],
   "source": [
    "# Load the training and test datasets\n",
    "train_df = pd.read_csv('unimelb_training.csv', low_memory=False)\n",
    "test_df = pd.read_csv('unimelb_test.csv', low_memory=False)\n",
    "\n",
    "# Display the first few rows of the training data\n",
    "print(train_df.head())\n",
    "print(test_df.head())"
   ]
  },
  {
   "cell_type": "code",
   "execution_count": 6,
   "id": "979cfac8-3e91-42c8-a5d1-28bae9e9ff98",
   "metadata": {},
   "outputs": [
    {
     "name": "stdout",
     "output_type": "stream",
     "text": [
      "   Grant.Application.ID  Grant.Status Sponsor.Code Grant.Category.Code  \\\n",
      "0                     1             1          NaN                 NaN   \n",
      "1                     2             1           2B                 10A   \n",
      "2                     3             1          29A                 10B   \n",
      "3                     4             1          40D                 10B   \n",
      "4                     5             0          59C                 10A   \n",
      "\n",
      "  Contract.Value.Band...see.note.A Start.date  RFCD.Code.1  RFCD.Percentage.1  \\\n",
      "0                               A     8/11/05     280199.0              100.0   \n",
      "1                               B    11/11/05     280103.0               30.0   \n",
      "2                               A    14/11/05     321004.0               60.0   \n",
      "3                               C    15/11/05     270602.0               50.0   \n",
      "4                               A    16/11/05     260500.0               34.0   \n",
      "\n",
      "   SEO.Code.1  SEO.Percentage.1  Person.ID.1                Role.1  \\\n",
      "0    700299.0             100.0      40572.0    CHIEF_INVESTIGATOR   \n",
      "1    700103.0              50.0       9067.0    CHIEF_INVESTIGATOR   \n",
      "2    730105.0              60.0       5967.0    CHIEF_INVESTIGATOR   \n",
      "3    730106.0              70.0      78782.0  PRINCIPAL_SUPERVISOR   \n",
      "4    770199.0             100.0      13042.0    CHIEF_INVESTIGATOR   \n",
      "\n",
      "   Year.of.Birth.1  Number.of.Successful.Grant.1  \\\n",
      "0           1965.0                           0.0   \n",
      "1           1960.0                           0.0   \n",
      "2           1955.0                           0.0   \n",
      "3           1955.0                           0.0   \n",
      "4           1965.0                           0.0   \n",
      "\n",
      "   Number.of.Unsuccessful.Grant.1  \n",
      "0                             0.0  \n",
      "1                             0.0  \n",
      "2                             0.0  \n",
      "3                             0.0  \n",
      "4                             0.0  \n",
      "   Grant.Application.ID Sponsor.Code Grant.Category.Code  \\\n",
      "0                     1          47C                 10B   \n",
      "1                     2          32D                 30B   \n",
      "2                     3          99C                 30B   \n",
      "3                     4           2B                 10A   \n",
      "4                     5          24D                 30B   \n",
      "\n",
      "  Contract.Value.Band...see.note.A Start.date  RFCD.Code.1  RFCD.Percentage.1  \\\n",
      "0                               A     1/01/09          NaN                NaN   \n",
      "1                               D     1/01/09     270199.0              100.0   \n",
      "2                               I     1/01/09          NaN                NaN   \n",
      "3                               E     1/01/09     280204.0               60.0   \n",
      "4                               B     1/01/09     320502.0               50.0   \n",
      "\n",
      "   SEO.Code.1  SEO.Percentage.1  Person.ID.1                Role.1  \\\n",
      "0         NaN               NaN      24017.0  PRINCIPAL_SUPERVISOR   \n",
      "1    780105.0              50.0      67467.0    CHIEF_INVESTIGATOR   \n",
      "2         NaN               NaN       4992.0    CHIEF_INVESTIGATOR   \n",
      "3    610104.0              50.0      39562.0    CHIEF_INVESTIGATOR   \n",
      "4    730104.0             100.0     659757.0    CHIEF_INVESTIGATOR   \n",
      "\n",
      "   Year.of.Birth.1  Number.of.Successful.Grant.1  \\\n",
      "0           1970.0                           4.0   \n",
      "1           1955.0                           5.0   \n",
      "2           1960.0                           0.0   \n",
      "3           1945.0                           4.0   \n",
      "4           1960.0                           2.0   \n",
      "\n",
      "   Number.of.Unsuccessful.Grant.1  \n",
      "0                             2.0  \n",
      "1                             3.0  \n",
      "2                             2.0  \n",
      "3                             0.0  \n",
      "4                             7.0  \n"
     ]
    }
   ],
   "source": [
    "# Key columns to use\n",
    "columns_to_use = [\n",
    "    'Grant.Application.ID', 'Grant.Status', 'Sponsor.Code', 'Grant.Category.Code',\n",
    "    'Contract.Value.Band...see.note.A', 'Start.date', 'RFCD.Code.1', 'RFCD.Percentage.1',\n",
    "    'SEO.Code.1', 'SEO.Percentage.1', 'Person.ID.1', 'Role.1', 'Year.of.Birth.1',\n",
    "    'Number.of.Successful.Grant.1', 'Number.of.Unsuccessful.Grant.1'\n",
    "]\n",
    "\n",
    "train_df = train_df[columns_to_use]\n",
    "test_df = test_df[[col for col in columns_to_use if col != 'Grant.Status']]  # Test set doesn't have 'Grant.Status'\n",
    "\n",
    "# Display the updated dataframes\n",
    "print(train_df.head())\n",
    "print(test_df.head())\n"
   ]
  },
  {
   "cell_type": "code",
   "execution_count": 8,
   "id": "f50f82ce-425e-45a7-a0e2-481e40b58eb0",
   "metadata": {},
   "outputs": [],
   "source": [
    "# Handle missing values (if any)\n",
    "train_df.fillna(0, inplace=True)\n",
    "test_df.fillna(0, inplace=True)\n",
    "\n",
    "# Convert 'Start.date' to datetime\n",
    "train_df['Start.date'] = pd.to_datetime(train_df['Start.date'], format='%d/%m/%y')\n",
    "test_df['Start.date'] = pd.to_datetime(test_df['Start.date'], format='%d/%m/%y')\n"
   ]
  },
  {
   "cell_type": "code",
   "execution_count": 9,
   "id": "ee9ca486-8d76-437b-ab56-60b6c158a53a",
   "metadata": {},
   "outputs": [],
   "source": [
    "# Combine training and test data for consistent label encoding\n",
    "combined_df = pd.concat([train_df.drop(columns=['Grant.Status']), test_df])\n",
    "\n",
    "# Encode categorical variables\n",
    "label_encoders = {}\n",
    "for col in ['Sponsor.Code', 'Grant.Category.Code', 'Contract.Value.Band...see.note.A', 'RFCD.Code.1', 'SEO.Code.1', 'Person.ID.1', 'Role.1']:\n",
    "    le = LabelEncoder()\n",
    "    combined_df[col] = le.fit_transform(combined_df[col].astype(str))\n",
    "    train_df[col] = le.transform(train_df[col].astype(str))\n",
    "    test_df[col] = le.transform(test_df[col].astype(str))\n",
    "    label_encoders[col] = le\n",
    "\n",
    "# Define features and target\n",
    "X_train = train_df.drop(columns=['Grant.Application.ID', 'Grant.Status', 'Start.date'])\n",
    "y_train = train_df['Grant.Status']\n",
    "X_test = test_df.drop(columns=['Grant.Application.ID', 'Start.date'])\n",
    "\n",
    "# Standardize the data\n",
    "scaler = StandardScaler()\n",
    "X_train = scaler.fit_transform(X_train)\n",
    "X_test = scaler.transform(X_test)"
   ]
  },
  {
   "cell_type": "code",
   "execution_count": 10,
   "id": "6a58a984-7f18-48b2-a6ea-f7e0a78a361c",
   "metadata": {},
   "outputs": [
    {
     "data": {
      "text/html": [
       "<style>#sk-container-id-1 {color: black;background-color: white;}#sk-container-id-1 pre{padding: 0;}#sk-container-id-1 div.sk-toggleable {background-color: white;}#sk-container-id-1 label.sk-toggleable__label {cursor: pointer;display: block;width: 100%;margin-bottom: 0;padding: 0.3em;box-sizing: border-box;text-align: center;}#sk-container-id-1 label.sk-toggleable__label-arrow:before {content: \"▸\";float: left;margin-right: 0.25em;color: #696969;}#sk-container-id-1 label.sk-toggleable__label-arrow:hover:before {color: black;}#sk-container-id-1 div.sk-estimator:hover label.sk-toggleable__label-arrow:before {color: black;}#sk-container-id-1 div.sk-toggleable__content {max-height: 0;max-width: 0;overflow: hidden;text-align: left;background-color: #f0f8ff;}#sk-container-id-1 div.sk-toggleable__content pre {margin: 0.2em;color: black;border-radius: 0.25em;background-color: #f0f8ff;}#sk-container-id-1 input.sk-toggleable__control:checked~div.sk-toggleable__content {max-height: 200px;max-width: 100%;overflow: auto;}#sk-container-id-1 input.sk-toggleable__control:checked~label.sk-toggleable__label-arrow:before {content: \"▾\";}#sk-container-id-1 div.sk-estimator input.sk-toggleable__control:checked~label.sk-toggleable__label {background-color: #d4ebff;}#sk-container-id-1 div.sk-label input.sk-toggleable__control:checked~label.sk-toggleable__label {background-color: #d4ebff;}#sk-container-id-1 input.sk-hidden--visually {border: 0;clip: rect(1px 1px 1px 1px);clip: rect(1px, 1px, 1px, 1px);height: 1px;margin: -1px;overflow: hidden;padding: 0;position: absolute;width: 1px;}#sk-container-id-1 div.sk-estimator {font-family: monospace;background-color: #f0f8ff;border: 1px dotted black;border-radius: 0.25em;box-sizing: border-box;margin-bottom: 0.5em;}#sk-container-id-1 div.sk-estimator:hover {background-color: #d4ebff;}#sk-container-id-1 div.sk-parallel-item::after {content: \"\";width: 100%;border-bottom: 1px solid gray;flex-grow: 1;}#sk-container-id-1 div.sk-label:hover label.sk-toggleable__label {background-color: #d4ebff;}#sk-container-id-1 div.sk-serial::before {content: \"\";position: absolute;border-left: 1px solid gray;box-sizing: border-box;top: 0;bottom: 0;left: 50%;z-index: 0;}#sk-container-id-1 div.sk-serial {display: flex;flex-direction: column;align-items: center;background-color: white;padding-right: 0.2em;padding-left: 0.2em;position: relative;}#sk-container-id-1 div.sk-item {position: relative;z-index: 1;}#sk-container-id-1 div.sk-parallel {display: flex;align-items: stretch;justify-content: center;background-color: white;position: relative;}#sk-container-id-1 div.sk-item::before, #sk-container-id-1 div.sk-parallel-item::before {content: \"\";position: absolute;border-left: 1px solid gray;box-sizing: border-box;top: 0;bottom: 0;left: 50%;z-index: -1;}#sk-container-id-1 div.sk-parallel-item {display: flex;flex-direction: column;z-index: 1;position: relative;background-color: white;}#sk-container-id-1 div.sk-parallel-item:first-child::after {align-self: flex-end;width: 50%;}#sk-container-id-1 div.sk-parallel-item:last-child::after {align-self: flex-start;width: 50%;}#sk-container-id-1 div.sk-parallel-item:only-child::after {width: 0;}#sk-container-id-1 div.sk-dashed-wrapped {border: 1px dashed gray;margin: 0 0.4em 0.5em 0.4em;box-sizing: border-box;padding-bottom: 0.4em;background-color: white;}#sk-container-id-1 div.sk-label label {font-family: monospace;font-weight: bold;display: inline-block;line-height: 1.2em;}#sk-container-id-1 div.sk-label-container {text-align: center;}#sk-container-id-1 div.sk-container {/* jupyter's `normalize.less` sets `[hidden] { display: none; }` but bootstrap.min.css set `[hidden] { display: none !important; }` so we also need the `!important` here to be able to override the default hidden behavior on the sphinx rendered scikit-learn.org. See: https://github.com/scikit-learn/scikit-learn/issues/21755 */display: inline-block !important;position: relative;}#sk-container-id-1 div.sk-text-repr-fallback {display: none;}</style><div id=\"sk-container-id-1\" class=\"sk-top-container\"><div class=\"sk-text-repr-fallback\"><pre>RandomForestClassifier(random_state=42)</pre><b>In a Jupyter environment, please rerun this cell to show the HTML representation or trust the notebook. <br />On GitHub, the HTML representation is unable to render, please try loading this page with nbviewer.org.</b></div><div class=\"sk-container\" hidden><div class=\"sk-item\"><div class=\"sk-estimator sk-toggleable\"><input class=\"sk-toggleable__control sk-hidden--visually\" id=\"sk-estimator-id-1\" type=\"checkbox\" checked><label for=\"sk-estimator-id-1\" class=\"sk-toggleable__label sk-toggleable__label-arrow\">RandomForestClassifier</label><div class=\"sk-toggleable__content\"><pre>RandomForestClassifier(random_state=42)</pre></div></div></div></div></div>"
      ],
      "text/plain": [
       "RandomForestClassifier(random_state=42)"
      ]
     },
     "execution_count": 10,
     "metadata": {},
     "output_type": "execute_result"
    }
   ],
   "source": [
    "\n",
    "# Build and train the model\n",
    "model = RandomForestClassifier(n_estimators=100, random_state=42)\n",
    "model.fit(X_train, y_train)\n"
   ]
  },
  {
   "cell_type": "code",
   "execution_count": 12,
   "id": "020f25ba-d0d7-49da-8c2c-e206d2f66d9e",
   "metadata": {},
   "outputs": [
    {
     "name": "stdout",
     "output_type": "stream",
     "text": [
      "Accuracy on training set: 0.9968994028479559\n",
      "ROC-AUC Score on training set: 0.9998980414178654\n"
     ]
    }
   ],
   "source": [
    "# Make predictions on the training set\n",
    "y_train_pred = model.predict(X_train)\n",
    "y_train_pred_proba = model.predict_proba(X_train)[:, 1]\n",
    "\n",
    "# Evaluate the model\n",
    "accuracy = accuracy_score(y_train, y_train_pred)\n",
    "roc_auc = roc_auc_score(y_train, y_train_pred_proba)\n",
    "\n",
    "print(f'Accuracy on training set: {accuracy}')\n",
    "print(f'ROC-AUC Score on training set: {roc_auc}')\n"
   ]
  },
  {
   "cell_type": "code",
   "execution_count": 13,
   "id": "7faa9ecd-953a-42e4-add0-2bcc5ed3e094",
   "metadata": {},
   "outputs": [],
   "source": [
    "\n",
    "# Make predictions on the test set\n",
    "test_pred_proba = model.predict_proba(X_test)[:, 1]\n",
    "\n",
    "# Create a submission file\n",
    "submission_df = pd.DataFrame({\n",
    "    'Grant.Application.ID': test_df['Grant.Application.ID'],\n",
    "    'Probability of Success': test_pred_proba\n",
    "})\n",
    "\n",
    "# Save the submission file\n",
    "submission_df.to_csv('submission.csv', index=False)"
   ]
  },
  {
   "cell_type": "code",
   "execution_count": null,
   "id": "dd077569-961c-4b18-a0bd-0d217a2baa97",
   "metadata": {},
   "outputs": [],
   "source": []
  }
 ],
 "metadata": {
  "kernelspec": {
   "display_name": "Python 3 (ipykernel)",
   "language": "python",
   "name": "python3"
  },
  "language_info": {
   "codemirror_mode": {
    "name": "ipython",
    "version": 3
   },
   "file_extension": ".py",
   "mimetype": "text/x-python",
   "name": "python",
   "nbconvert_exporter": "python",
   "pygments_lexer": "ipython3",
   "version": "3.11.5"
  }
 },
 "nbformat": 4,
 "nbformat_minor": 5
}
